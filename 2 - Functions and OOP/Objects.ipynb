{
 "cells": [
  {
   "cell_type": "markdown",
   "metadata": {},
   "source": [
    "# Objects"
   ]
  },
  {
   "cell_type": "markdown",
   "metadata": {},
   "source": [
    "An object, like a function, is a kind of encapsulation and abstraction. We make objects by instantiating them. One important aspect of Python: everything is an object.\n",
    "\n",
    "* lists are objects\n",
    "* strings are objects\n",
    "* tuples are objects\n",
    "* functions are objects\n",
    "* numbers are objects\n",
    "* .... everything\n",
    "\n",
    "So we have an idea of how to use the built in objects to do some tasks, but how do we make our own objects?"
   ]
  },
  {
   "cell_type": "markdown",
   "metadata": {},
   "source": [
    "## Classes"
   ]
  },
  {
   "cell_type": "markdown",
   "metadata": {},
   "source": [
    "Classes are the blueprints for an object. We can say that objects are instances of a class. Let's make the blueprint for a dog:"
   ]
  },
  {
   "cell_type": "code",
   "execution_count": 1,
   "metadata": {
    "collapsed": true
   },
   "outputs": [],
   "source": [
    "class Dog:\n",
    "    def __init__(self, name):\n",
    "        self.name = name\n",
    "        \n",
    "    def wagTail(self):\n",
    "        # some code goes here\n",
    "        return\n",
    "    \n",
    "    def bark(self, volume):\n",
    "        print('woof!')\n",
    "        return"
   ]
  },
  {
   "cell_type": "markdown",
   "metadata": {},
   "source": [
    "Our Dog has three \"methods\":\n",
    "* __init__ is a special method that is called as soon as the dog instance is made, you need to give a name to your dog and then the instance adds it to itself\n",
    "* wagTail takes no arguments, ideally we would put some code inside the method to make our dog wag their tail\n",
    "* bark takes in one argument (but it doesn't use it) and then prints \"woof!\"\n",
    "\n",
    "You might be wondering: what's up with this self thing that keeps coming up? wagTail says it takes in one argument called self!\n",
    "\n",
    "Every method you define needs to have self as its first argument. self is a reference back to the object you are calling the method from. When you define your blueprint, you don't know \"where\" the instance is, self is that location. Whatever is the first argument is automatically assigned a reference to the object, whether you call it self or not.\n",
    "\n",
    "Let's make a dog instance:"
   ]
  },
  {
   "cell_type": "code",
   "execution_count": 6,
   "metadata": {
    "collapsed": false
   },
   "outputs": [
    {
     "name": "stdout",
     "output_type": "stream",
     "text": [
      "This dog is named Terry\n",
      "woof!\n"
     ]
    }
   ],
   "source": [
    "pupper = Dog('Terry')\n",
    "print( \"This dog is named {}\".format(pupper.name) )\n",
    "pupper.bark(10)"
   ]
  },
  {
   "cell_type": "markdown",
   "metadata": {},
   "source": [
    "If I need another dog, I can just make a new instance:"
   ]
  },
  {
   "cell_type": "code",
   "execution_count": 9,
   "metadata": {
    "collapsed": false
   },
   "outputs": [
    {
     "name": "stdout",
     "output_type": "stream",
     "text": [
      "False\n",
      "Loki\n"
     ]
    }
   ],
   "source": [
    "doggy = Dog('Loki')\n",
    "print( doggy ==  pupper )\n",
    "print( doggy.name )"
   ]
  },
  {
   "cell_type": "markdown",
   "metadata": {},
   "source": [
    "There's usually more than one thing that makes dogs different from each other, like for example their breed. This is where class inheritance comes in. Inheritance allows you to build on other people's (or your own), blueprints. Let's make german shepperd blueprint and pomerian blueprint."
   ]
  },
  {
   "cell_type": "code",
   "execution_count": 10,
   "metadata": {
    "collapsed": true
   },
   "outputs": [],
   "source": [
    "class GermanShepperd(Dog):\n",
    "    def __init__(self, name):\n",
    "        self.name = name\n",
    "        self.size = 'Large'\n",
    "        self.breed= 'German Shepperd'\n",
    "        \n",
    "    def bark(self):\n",
    "        print('WOOF! WOOF!')\n",
    "        \n",
    "class Pomerenian(Dog):\n",
    "    def __init__(self, name):\n",
    "        self.name = name\n",
    "        self.size = 'small'\n",
    "        self.breed= 'Pomerenian'"
   ]
  },
  {
   "cell_type": "code",
   "execution_count": 18,
   "metadata": {
    "collapsed": false
   },
   "outputs": [
    {
     "name": "stdout",
     "output_type": "stream",
     "text": [
      "Thor is a German Shepperd\n",
      "Odin is a Pomerenian\n",
      "When Thor barks we get:\n",
      "WOOF! WOOF!\n",
      "When Odin barks we get: \n",
      "woof!\n"
     ]
    }
   ],
   "source": [
    "guardDog = GermanShepperd('Thor')\n",
    "toyDog   = Pomerenian('Odin')\n",
    "\n",
    "print('{} is a {}'.format(guardDog.name, guardDog.breed))\n",
    "print('{} is a {}'.format(toyDog.name, toyDog.breed))\n",
    "\n",
    "print( 'When {} barks we get:'.format(guardDog.name))\n",
    "guardDog.bark()\n",
    "print( 'When {} barks we get: '.format(toyDog.name) )\n",
    "toyDog.bark(10)"
   ]
  },
  {
   "cell_type": "markdown",
   "metadata": {},
   "source": [
    "I rewrote the init, to change what attributes each breed has. I even re-defined bark for the shepperd (I presume they are louder), and got rid of the positional argument. And even though I didn't give Pomerenian a bark, it inherited the Dog bark.\n",
    "\n",
    "This all goes back DRY: Don't Repeat Yourself!\n",
    "\n",
    "If you find that two classes have a lot of overlap, it might be worth it to define a super class that they can both inherit from. That way if a problem arises that impacts both (or twenty different classes) you can fix it all in one place!\n",
    "\n",
    "[Having said there are better ways to do what I just did above: metaclasses. Metaclasses are blueprints for classes, they make instances of classes, look it up if you're interested]"
   ]
  },
  {
   "cell_type": "markdown",
   "metadata": {},
   "source": [
    "Let's switch from dogs to math. Let's define a 2d point class"
   ]
  },
  {
   "cell_type": "code",
   "execution_count": 20,
   "metadata": {
    "collapsed": true
   },
   "outputs": [],
   "source": [
    "class Point:\n",
    "    def __init__(self, x, y):\n",
    "        self.x = x\n",
    "        self.y = y\n",
    "        \n",
    "    def magnitude(self):\n",
    "        return (self.x**2 + self.y**2)**0.5\n",
    "    \n",
    "    def addPoint(self, otherPoint):\n",
    "        new_x = self.x + otherPoint.x\n",
    "        new_y = self.y + otherPoint.y\n",
    "        return Point(new_x, new_y)"
   ]
  },
  {
   "cell_type": "code",
   "execution_count": 22,
   "metadata": {
    "collapsed": false
   },
   "outputs": [
    {
     "name": "stdout",
     "output_type": "stream",
     "text": [
      "5.0\n",
      "<__main__.Point object at 0x7f8c3d6ddd68>\n"
     ]
    }
   ],
   "source": [
    "a = Point(3,4)\n",
    "b = Point(-2,10)\n",
    "print( a.magnitude() )\n",
    "c = b.addPoint(a)\n",
    "print( c )"
   ]
  },
  {
   "cell_type": "markdown",
   "metadata": {},
   "source": [
    "Now, as you can see we can make points, and get their magnitudes, but if we try to print them we only get the memory address... not very useful. Let's add a magic method: __str__ for string is meant to return a human readable string representation of the object. Print calls on this magic method and returns the results"
   ]
  },
  {
   "cell_type": "code",
   "execution_count": 23,
   "metadata": {
    "collapsed": true
   },
   "outputs": [],
   "source": [
    "class Point:\n",
    "    def __init__(self, x, y):\n",
    "        self.x = x\n",
    "        self.y = y\n",
    "        \n",
    "    def magnitude(self):\n",
    "        return (self.x**2 + self.y**2)**0.5\n",
    "    \n",
    "    def addPoint(self, otherPoint):\n",
    "        new_x = self.x + otherPoint.x\n",
    "        new_y = self.y + otherPoint.y\n",
    "        return Point(new_x, new_y)\n",
    "    \n",
    "    def __str__(self):\n",
    "        return 'Point({},{})'.format(self.x,self.y)"
   ]
  },
  {
   "cell_type": "code",
   "execution_count": 24,
   "metadata": {
    "collapsed": false
   },
   "outputs": [
    {
     "name": "stdout",
     "output_type": "stream",
     "text": [
      "Point(1,14)\n"
     ]
    }
   ],
   "source": [
    "a = Point(3,4)\n",
    "b = Point(-2,10)\n",
    "c = a.addPoint(b)\n",
    "print( c )"
   ]
  },
  {
   "cell_type": "markdown",
   "metadata": {},
   "source": [
    "There is one last trick I want to show: operator overloading."
   ]
  },
  {
   "cell_type": "code",
   "execution_count": 25,
   "metadata": {
    "collapsed": true
   },
   "outputs": [],
   "source": [
    "class Point:\n",
    "    def __init__(self, x, y):\n",
    "        self.x = x\n",
    "        self.y = y\n",
    "        \n",
    "    def magnitude(self):\n",
    "        return (self.x**2 + self.y**2)**0.5\n",
    "    \n",
    "    def addPoint(self, otherPoint):\n",
    "        new_x = self.x + otherPoint.x\n",
    "        new_y = self.y + otherPoint.y\n",
    "        return Point(new_x, new_y)\n",
    "    \n",
    "    def __str__(self):\n",
    "        return 'Point({},{})'.format(self.x,self.y)\n",
    "    \n",
    "    def __add__(self, otherPoint):\n",
    "        return self.addPoint(otherPoint)"
   ]
  },
  {
   "cell_type": "code",
   "execution_count": 26,
   "metadata": {
    "collapsed": false
   },
   "outputs": [
    {
     "name": "stdout",
     "output_type": "stream",
     "text": [
      "Point(1,14)\n"
     ]
    }
   ],
   "source": [
    "a = Point(3,4)\n",
    "b = Point(-2,10)\n",
    "c = a + b\n",
    "print( c )"
   ]
  },
  {
   "cell_type": "markdown",
   "metadata": {},
   "source": [
    "We overloaded the addition operator, such that when our point is called on to do addition it uses our addPoint function! This allows you to write classes that look and feel very natural to the language. Lists and strings also overload addition (try it out!) and we'll see later that NumPy does so as well."
   ]
  },
  {
   "cell_type": "markdown",
   "metadata": {},
   "source": [
    "## Projects"
   ]
  },
  {
   "cell_type": "markdown",
   "metadata": {},
   "source": [
    "### Small Projects"
   ]
  },
  {
   "cell_type": "markdown",
   "metadata": {},
   "source": [
    "A stack is a type of container that obeys Last In First Out (LIFO), ie the last thing you put into it is the first thing to come out. You can think of a stack of books, you add stuff to the top and you remove stuff from the top. If you keep removing eventually the stack becomes empty. Implement a stack that has the following methods:\n",
    "* push: adds an element to your stack\n",
    "* pop: removes the last element that was added and return it to the user\n",
    "* size: returns the size of the stack\n",
    "\n",
    "OR\n",
    "\n",
    "A queue is a type of container that obeys First In First Out (FIFO), ie the first thing to go in is the first thing to come out. You can think of a queue as line of people, the first person to line up gets out of the line first, while more people can join the line behind them. Implement a queue that has the following methods:\n",
    "* enqueue: add an element to your queue\n",
    "* dequeue: remove the first element of the queue and return it to the user\n",
    "* size: returns the size of the queue\n",
    "\n",
    "HINT:\n",
    "Attach a list to self to serve as your main container and then implement the methods"
   ]
  },
  {
   "cell_type": "markdown",
   "metadata": {},
   "source": [
    "### Advanced Projects"
   ]
  },
  {
   "cell_type": "markdown",
   "metadata": {},
   "source": [
    "Implement a stack, then implement a queue out of two stacks\n",
    "\n",
    "OR\n",
    "\n",
    "Implement a queue, then implement a stack out of two queues\n",
    "\n",
    "HINT: Your algorithm doesn't have to be very effecient"
   ]
  }
 ],
 "metadata": {
  "kernelspec": {
   "display_name": "Python 3",
   "language": "python",
   "name": "python3"
  },
  "language_info": {
   "codemirror_mode": {
    "name": "ipython",
    "version": 3
   },
   "file_extension": ".py",
   "mimetype": "text/x-python",
   "name": "python",
   "nbconvert_exporter": "python",
   "pygments_lexer": "ipython3",
   "version": "3.5.2"
  }
 },
 "nbformat": 4,
 "nbformat_minor": 0
}
