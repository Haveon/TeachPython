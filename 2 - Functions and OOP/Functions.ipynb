{
 "cells": [
  {
   "cell_type": "markdown",
   "metadata": {},
   "source": [
    "# Functions"
   ]
  },
  {
   "cell_type": "markdown",
   "metadata": {},
   "source": [
    "One of the most important things you'll learn the more you program is that people are incredibly fallible. For that reasons programmers like DRY: Don't Repeat Yourself. The more lines of code you have to write and maintain the more likely it is that bugs will creep up.\n",
    "Functions are a way for you to avoid repeating yourself. It is what we call a way to encapsulate code."
   ]
  },
  {
   "cell_type": "markdown",
   "metadata": {},
   "source": [
    "## Syntax"
   ]
  },
  {
   "cell_type": "markdown",
   "metadata": {},
   "source": [
    "The syntax for functions is quite simple. We use the def keyword to tell python that we want to start a function definition, followed by a space and the name of the function. A pair of brackets is used to tell python how many arguments to expect (and also give them names) and finally a colon ends the line. You are now allowed to write an indented code block. Let's make a function that echos back a string."
   ]
  },
  {
   "cell_type": "code",
   "execution_count": 4,
   "metadata": {
    "collapsed": true
   },
   "outputs": [],
   "source": [
    "def echo(sentence):\n",
    "    print(sentence)"
   ]
  },
  {
   "cell_type": "code",
   "execution_count": 5,
   "metadata": {
    "collapsed": false
   },
   "outputs": [
    {
     "name": "stdout",
     "output_type": "stream",
     "text": [
      "Are you not entertained?\n"
     ]
    }
   ],
   "source": [
    "echo('Are you not entertained?')"
   ]
  },
  {
   "cell_type": "markdown",
   "metadata": {},
   "source": [
    "We might want the function to give us back a value instead of printing to the screen. We can accomplish this with a return statement. Let's make a function to approximate pi with the taylor series of arctan."
   ]
  },
  {
   "cell_type": "code",
   "execution_count": 18,
   "metadata": {
    "collapsed": true
   },
   "outputs": [],
   "source": [
    "def arctan(x, terms=50):\n",
    "    value = 0\n",
    "    for i in range(terms):\n",
    "        coef  = 2*i+1    # make an odd number\n",
    "        \n",
    "        if i%2 == 0:\n",
    "            sign=1\n",
    "        else:\n",
    "            sign=-1\n",
    "        \n",
    "        value+= sign*(x**coef)/coef\n",
    "    \n",
    "    return value"
   ]
  },
  {
   "cell_type": "code",
   "execution_count": 21,
   "metadata": {
    "collapsed": false
   },
   "outputs": [
    {
     "name": "stdout",
     "output_type": "stream",
     "text": [
      "3.121594652591011\n"
     ]
    }
   ],
   "source": [
    "pi = 4*arctan(1)\n",
    "print( pi )"
   ]
  },
  {
   "cell_type": "code",
   "execution_count": 22,
   "metadata": {
    "collapsed": false
   },
   "outputs": [
    {
     "name": "stdout",
     "output_type": "stream",
     "text": [
      "3.139592655589785\n"
     ]
    }
   ],
   "source": [
    "betterPi = 4*arctan(1, terms = 500)\n",
    "print( betterPi )"
   ]
  },
  {
   "cell_type": "markdown",
   "metadata": {},
   "source": [
    "I used value to accumulate terms of my taylor series expansion and then returned value. I caught the number in a new variable (pi and betterPi) before printing it.\n",
    "I also added a new concept: keyword arguments. These arguments are automatically assigned a value, so if you (or your user) don't want to use it they don't have to keep repeating themselves. However if you want to change it you can. In this example we can a better approximation the higher the number of terms!"
   ]
  },
  {
   "cell_type": "markdown",
   "metadata": {},
   "source": [
    "Also notice how now we won't have to repeat ourselves if we want to use arctan; we can just call up this function and save ourselves the trouble of writting this approximation anywhere we need it. [in truth this a hollow victory since better versions of arctan are included in python's numerical libraries, but you get the point]"
   ]
  },
  {
   "cell_type": "markdown",
   "metadata": {},
   "source": [
    "There are more nuances, but the gist of functions is to wrap up pieces of code you use frequently so you can avoid repetition and if any problems are found you only have to fix it once."
   ]
  },
  {
   "cell_type": "markdown",
   "metadata": {},
   "source": [
    "## Long Example"
   ]
  },
  {
   "cell_type": "markdown",
   "metadata": {},
   "source": [
    "In the last notebook I showed a way to numerically integrate the function x^2. Here it is again:"
   ]
  },
  {
   "cell_type": "code",
   "execution_count": null,
   "metadata": {
    "collapsed": true
   },
   "outputs": [],
   "source": [
    "dx = 1.                        # rectangle width\n",
    "iterations = int((10.-0.)/dx)  # What happens if you don't make an int?\n",
    "integral = 0                   # Accumulator\n",
    "for i in range(iterations):\n",
    "    x = i*dx\n",
    "    f = x*x                    # Evaluate the height of the rectangle\n",
    "    integral = integral + f*dx # Add the area of the rectangle to the accumulator\n",
    "print(integral)"
   ]
  },
  {
   "cell_type": "markdown",
   "metadata": {},
   "source": [
    "We're going to make this code more portable, by wrapping it up into a function. First let's think about what inputs our function will need:\n",
    "* rectangle width\n",
    "* lower integral bound\n",
    "* upper integral bound\n",
    "* a way to throw any function we want in there\n",
    "\n",
    "We'll have the function return the value of the integral, so we can chose to print it later if we want. Let's get started first with the top three points:"
   ]
  },
  {
   "cell_type": "code",
   "execution_count": 51,
   "metadata": {
    "collapsed": true
   },
   "outputs": [],
   "source": [
    "def rectangleIntegrate(dx, a, b):\n",
    "    \"\"\"\n",
    "    Given a value dx, lower bound a, and upper bound b, \n",
    "    calculate the value of the integral of x^2\n",
    "    \"\"\"\n",
    "    iterations = int((b-a)/dx)     # Notice the changes here\n",
    "    integral = 0\n",
    "    x = a                          # And here\n",
    "    for i in range(iterations):\n",
    "        f = x*x\n",
    "        integral = integral + f*dx\n",
    "        x+=dx\n",
    "    return integral"
   ]
  },
  {
   "cell_type": "code",
   "execution_count": 52,
   "metadata": {
    "collapsed": false
   },
   "outputs": [
    {
     "name": "stdout",
     "output_type": "stream",
     "text": [
      "332.8334999999901\n"
     ]
    }
   ],
   "source": [
    "val = rectangleIntegrate(0.01, 0, 10)\n",
    "print(val)"
   ]
  },
  {
   "cell_type": "code",
   "execution_count": 53,
   "metadata": {
    "collapsed": false
   },
   "outputs": [
    {
     "name": "stdout",
     "output_type": "stream",
     "text": [
      "1156.6999999999955\n"
     ]
    }
   ],
   "source": [
    "print(rectangleIntegrate(0.1, -5, 15)) # Real value 1166.7"
   ]
  },
  {
   "cell_type": "markdown",
   "metadata": {},
   "source": [
    "So we managed to abstracted enough, that we can now give it any rectangle width we want, and go to any bounds. However, we are still only integrating x^2. If we wanted to integrate other functions we would have to copy and paste the function and change the first line in the loop; this is clearly not DRY."
   ]
  },
  {
   "cell_type": "markdown",
   "metadata": {},
   "source": [
    "What we're going to do is make the function we are trying to integrate into a .... function"
   ]
  },
  {
   "cell_type": "code",
   "execution_count": 28,
   "metadata": {
    "collapsed": true
   },
   "outputs": [],
   "source": [
    "def squared(x):\n",
    "    return x*x"
   ]
  },
  {
   "cell_type": "code",
   "execution_count": 29,
   "metadata": {
    "collapsed": false
   },
   "outputs": [
    {
     "name": "stdout",
     "output_type": "stream",
     "text": [
      "<function squared at 0x7fbf484dabf8>\n"
     ]
    }
   ],
   "source": [
    "print(squared)"
   ]
  },
  {
   "cell_type": "code",
   "execution_count": 30,
   "metadata": {
    "collapsed": false
   },
   "outputs": [
    {
     "name": "stdout",
     "output_type": "stream",
     "text": [
      "<function squared at 0x7fbf484dabf8>\n"
     ]
    }
   ],
   "source": [
    "a = squared\n",
    "print(a)"
   ]
  },
  {
   "cell_type": "code",
   "execution_count": 31,
   "metadata": {
    "collapsed": false
   },
   "outputs": [
    {
     "name": "stdout",
     "output_type": "stream",
     "text": [
      "25\n"
     ]
    }
   ],
   "source": [
    "print(a(5))"
   ]
  },
  {
   "cell_type": "markdown",
   "metadata": {},
   "source": [
    "Functions are objects that you can manipulate just like lists, strings, or numbers. You can even assign them to variables! So what we're going to do is make a variable in our function defition that is itself a function."
   ]
  },
  {
   "cell_type": "code",
   "execution_count": 34,
   "metadata": {
    "collapsed": false
   },
   "outputs": [
    {
     "name": "stdout",
     "output_type": "stream",
     "text": [
      "49\n"
     ]
    }
   ],
   "source": [
    "def test(f):\n",
    "    print(f(7))\n",
    "\n",
    "test(squared)"
   ]
  },
  {
   "cell_type": "markdown",
   "metadata": {},
   "source": [
    "Now that we know it will work, let's redefine our rectangle integrator"
   ]
  },
  {
   "cell_type": "code",
   "execution_count": 54,
   "metadata": {
    "collapsed": true
   },
   "outputs": [],
   "source": [
    "def rectangleIntegrate(func, a, b, dx=0.01):\n",
    "    \"\"\"\n",
    "    Given a value dx, lower bound a, and upper bound b, \n",
    "    calculate the value of the integral of x^2\n",
    "    \"\"\"\n",
    "    iterations = int((b-a)/dx)     # Notice the changes here\n",
    "    integral = 0\n",
    "    x = a                          # And here\n",
    "    for i in range(iterations):\n",
    "        f = func(x)                # More changes here\n",
    "        integral = integral + f*dx\n",
    "        x+=dx\n",
    "    return integral"
   ]
  },
  {
   "cell_type": "code",
   "execution_count": 55,
   "metadata": {
    "collapsed": true
   },
   "outputs": [],
   "source": [
    "def line(x):\n",
    "    return x"
   ]
  },
  {
   "cell_type": "code",
   "execution_count": 56,
   "metadata": {
    "collapsed": false
   },
   "outputs": [
    {
     "name": "stdout",
     "output_type": "stream",
     "text": [
      "49.94999999999933\n"
     ]
    }
   ],
   "source": [
    "print( rectangleIntegrate(line, 0, 10) )"
   ]
  },
  {
   "cell_type": "code",
   "execution_count": 57,
   "metadata": {
    "collapsed": false
   },
   "outputs": [
    {
     "name": "stdout",
     "output_type": "stream",
     "text": [
      "1166.656666698059\n"
     ]
    }
   ],
   "source": [
    "print( rectangleIntegrate(squared, -5, 15, dx=0.0001) )"
   ]
  },
  {
   "cell_type": "code",
   "execution_count": 59,
   "metadata": {
    "collapsed": false
   },
   "outputs": [
    {
     "name": "stdout",
     "output_type": "stream",
     "text": [
      "0.43838480020161874\n"
     ]
    }
   ],
   "source": [
    "print( rectangleIntegrate(arctan, 0, 1, dx=1e-3) )"
   ]
  },
  {
   "cell_type": "markdown",
   "metadata": {},
   "source": [
    "So now we get a function that integrate any function we can write as a function (hopefully that made sense)"
   ]
  },
  {
   "cell_type": "markdown",
   "metadata": {},
   "source": [
    "It's worth mentioning again that approximating integration with rectangles is not really a good way to go about doing things. Next module we'll be introducing NumPy and SciPy which have pretty good integrators."
   ]
  },
  {
   "cell_type": "markdown",
   "metadata": {},
   "source": [
    "# Projects"
   ]
  },
  {
   "cell_type": "markdown",
   "metadata": {},
   "source": [
    "## Small Projects"
   ]
  },
  {
   "cell_type": "markdown",
   "metadata": {},
   "source": [
    "The Fibonacci sequence is a reccurence relation where the last two numbers are added to find the next one. For example: 1, 1, 2, 3, 5, 8 are the first six numbers of the sequence.\n",
    "\n",
    "Write a function that calculates the first n fibonacci numbers. Remember that the sequence starts with 1 and 1."
   ]
  },
  {
   "cell_type": "markdown",
   "metadata": {},
   "source": [
    "## Advanced Projects"
   ]
  },
  {
   "cell_type": "markdown",
   "metadata": {},
   "source": [
    "Input/Output: You are given a comma delimited text file (csv): data.csv. There are three columns: the first column is either a 0 or 1, the second column is a number and a third column is another number. \n",
    "   * Write a function that reads the data in from the csv (hint: use open()) and returns each column as a list of numbers (don't forget to close your file!). \n",
    "   * Then write a function to process that data. If the first column is \n",
    "        * zero: add the numbers togehter\n",
    "        * one: subtract second column from first\n",
    "   * Finally write a function that opens up a new file and saves the results, one number per line"
   ]
  },
  {
   "cell_type": "markdown",
   "metadata": {},
   "source": [
    "OR"
   ]
  },
  {
   "cell_type": "markdown",
   "metadata": {},
   "source": [
    "Look up generators and the yield keyword. Make a generator that returns the next fibonacci number"
   ]
  }
 ],
 "metadata": {
  "kernelspec": {
   "display_name": "Python 3",
   "language": "python",
   "name": "python3"
  },
  "language_info": {
   "codemirror_mode": {
    "name": "ipython",
    "version": 3
   },
   "file_extension": ".py",
   "mimetype": "text/x-python",
   "name": "python",
   "nbconvert_exporter": "python",
   "pygments_lexer": "ipython3",
   "version": "3.5.2"
  }
 },
 "nbformat": 4,
 "nbformat_minor": 0
}
