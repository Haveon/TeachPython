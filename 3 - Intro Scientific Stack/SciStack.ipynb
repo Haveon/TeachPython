{
 "cells": [
  {
   "cell_type": "markdown",
   "metadata": {},
   "source": [
    "# NumPy, SciPy and matplotlib"
   ]
  },
  {
   "cell_type": "markdown",
   "metadata": {},
   "source": [
    "A wide number of scientific displines have turned to python as a programming language for its easy syntax and ease of installation (among other things). As a result there's a thriving scientific community that collaborates on general purpose open sourse projects. Most people would regard NumPy, SciPy and matplotlib the core python scientific packages (actually more and more people include iPython and jupyter notebooks as well).\n",
    "\n",
    "* NumPy: This is the numerical python library. Usually most mathematical functions that you will need are in numpy. It also defines fast arrays (c-level arrays) and many operations to manage them.\n",
    "* SciPy: The scientific python library. It grabs NumPy and adds robust algorithms used in all sorts of scientific disciplines. Statistics, regressions, special functions, linear algebra and other are included.\n",
    "* matplotlib: python's main plotting library. You can everything from scatter plots to 3d \n",
    "\n",
    "We're going through the basics of each library and introduce some useful functions from each."
   ]
  },
  {
   "cell_type": "markdown",
   "metadata": {},
   "source": [
    "## Importing"
   ]
  },
  {
   "cell_type": "markdown",
   "metadata": {},
   "source": [
    "Before we can use these libraries we need to import them; that is load their contents into memory so that we can use them. The standard syntax looks like this"
   ]
  },
  {
   "cell_type": "code",
   "execution_count": null,
   "metadata": {
    "collapsed": true
   },
   "outputs": [],
   "source": [
    "import libraryIwantToUse\n",
    "\n",
    "libraryIwantToUse.functionIneed()   # This is how you would call a function in the library"
   ]
  },
  {
   "cell_type": "markdown",
   "metadata": {},
   "source": [
    "For common libraries like the ones we are discussing today, people have developed some shorthand notations."
   ]
  },
  {
   "cell_type": "code",
   "execution_count": 2,
   "metadata": {
    "collapsed": true
   },
   "outputs": [],
   "source": [
    "import numpy as np\n",
    "import scipy as sp\n",
    "import matplotlib.pyplot as plt"
   ]
  },
  {
   "cell_type": "markdown",
   "metadata": {},
   "source": [
    "## Numpy: Arrays!"
   ]
  },
  {
   "cell_type": "markdown",
   "metadata": {},
   "source": [
    "The main feature from numpy we want to highlight is their arrays, and array manipulations. First we need to import the numpy library."
   ]
  },
  {
   "cell_type": "code",
   "execution_count": 5,
   "metadata": {
    "collapsed": false
   },
   "outputs": [
    {
     "name": "stdout",
     "output_type": "stream",
     "text": [
      "<class 'numpy.ndarray'>\n",
      "[  9   4  18 194   1]\n"
     ]
    }
   ],
   "source": [
    "import numpy as np\n",
    "\n",
    "data = [9,4,18,194,1]\n",
    "arr = np.array(data)\n",
    "\n",
    "print(type(arr))\n",
    "print(arr)"
   ]
  },
  {
   "cell_type": "markdown",
   "metadata": {},
   "source": [
    "The array function can take any iterable container (lists, tuples, generators) and turn them into a numpy array. You can still index and slice them like lists or tuples. However, there is no append; once you make an array it must remain that size. The beauty of this array is that it is defined to be fast."
   ]
  },
  {
   "cell_type": "code",
   "execution_count": 11,
   "metadata": {
    "collapsed": true
   },
   "outputs": [],
   "source": [
    "data = range(1000000)\n",
    "arr  = np.array(data)"
   ]
  },
  {
   "cell_type": "code",
   "execution_count": 12,
   "metadata": {
    "collapsed": false
   },
   "outputs": [
    {
     "name": "stdout",
     "output_type": "stream",
     "text": [
      "10 loops, best of 3: 24.9 ms per loop\n"
     ]
    }
   ],
   "source": [
    "%timeit sum(data)"
   ]
  },
  {
   "cell_type": "code",
   "execution_count": 13,
   "metadata": {
    "collapsed": false
   },
   "outputs": [
    {
     "name": "stdout",
     "output_type": "stream",
     "text": [
      "1000 loops, best of 3: 939 µs per loop\n"
     ]
    }
   ],
   "source": [
    "%timeit np.sum(arr)"
   ]
  },
  {
   "cell_type": "markdown",
   "metadata": {},
   "source": [
    "In general if you can figure out where to use numpy arrays, you can make your code 10 to 100 times faster.\n",
    "\n",
    "We'll go through some array creation techniques."
   ]
  },
  {
   "cell_type": "code",
   "execution_count": 21,
   "metadata": {
    "collapsed": false
   },
   "outputs": [],
   "source": [
    "a = np.arange(-4,3,2)     # array range, it takes the same arguments as range\n",
    "b = np.linspace(0,10,15)  # makes an array from 0 to 10 with 15 evenly spaced entries\n",
    "c = np.zeros([3,3])       # makes a 3x3 array of zeros\n",
    "d = np.ones([2,3])        # makes a 2x3 array of ones\n",
    "e = np.eye(4)             # makes 4x4 identity array  "
   ]
  },
  {
   "cell_type": "code",
   "execution_count": 22,
   "metadata": {
    "collapsed": false
   },
   "outputs": [
    {
     "name": "stdout",
     "output_type": "stream",
     "text": [
      "[-4 -2  0  2]\n",
      "--------------------------------------------------\n",
      "[  0.           0.71428571   1.42857143   2.14285714   2.85714286\n",
      "   3.57142857   4.28571429   5.           5.71428571   6.42857143\n",
      "   7.14285714   7.85714286   8.57142857   9.28571429  10.        ]\n",
      "--------------------------------------------------\n",
      "[[ 0.  0.  0.]\n",
      " [ 0.  0.  0.]\n",
      " [ 0.  0.  0.]]\n",
      "--------------------------------------------------\n",
      "[[ 1.  1.  1.]\n",
      " [ 1.  1.  1.]]\n",
      "--------------------------------------------------\n",
      "[[ 1.  0.  0.  0.]\n",
      " [ 0.  1.  0.  0.]\n",
      " [ 0.  0.  1.  0.]\n",
      " [ 0.  0.  0.  1.]]\n",
      "--------------------------------------------------\n"
     ]
    }
   ],
   "source": [
    "for _ in [a,b,c,d,e]:\n",
    "    print(_)\n",
    "    print('-'*50)"
   ]
  },
  {
   "cell_type": "markdown",
   "metadata": {},
   "source": [
    "It's important to realize what kinds of operations you can do with arrays"
   ]
  },
  {
   "cell_type": "code",
   "execution_count": 50,
   "metadata": {
    "collapsed": false
   },
   "outputs": [
    {
     "name": "stdout",
     "output_type": "stream",
     "text": [
      "[0 1 2 3]\n",
      "\n",
      "[5 6 7 8]\n",
      "\n",
      "[0 2 4 6]\n",
      "\n",
      "[0 1 4 9]\n"
     ]
    }
   ],
   "source": [
    "a = np.arange(4)\n",
    "print( a , end='\\n\\n')\n",
    "print(a + 5, end='\\n\\n')\n",
    "print(a * 2, end='\\n\\n')\n",
    "print(a*a)"
   ]
  },
  {
   "cell_type": "code",
   "execution_count": 51,
   "metadata": {
    "collapsed": false
   },
   "outputs": [
    {
     "name": "stdout",
     "output_type": "stream",
     "text": [
      "[[-4.  2.  2.]\n",
      " [ 2. -4.  2.]\n",
      " [ 2.  2. -4.]]\n",
      "\n",
      "[[-1.  5.  5.]\n",
      " [ 5. -1.  5.]\n",
      " [ 5.  5. -1.]]\n",
      "\n",
      "[[ 16.   4.   4.]\n",
      " [  4.  16.   4.]\n",
      " [  4.   4.  16.]]\n"
     ]
    }
   ],
   "source": [
    "M = np.ones([3,3])*2 - 6 * np.eye(3)\n",
    "print( M , end='\\n\\n')\n",
    "print( M + 3 , end='\\n\\n')\n",
    "print( M*M )"
   ]
  },
  {
   "cell_type": "markdown",
   "metadata": {},
   "source": [
    "The last thing I want to mention is that numpy provides many many math functions and constants"
   ]
  },
  {
   "cell_type": "code",
   "execution_count": 25,
   "metadata": {
    "collapsed": false
   },
   "outputs": [
    {
     "name": "stdout",
     "output_type": "stream",
     "text": [
      "1.0\n",
      "1.0\n",
      "2.0\n"
     ]
    }
   ],
   "source": [
    "print( np.cos( 2*np.pi ) )\n",
    "print( np.log( np.e ) )\n",
    "print( np.log10(100) )"
   ]
  },
  {
   "cell_type": "markdown",
   "metadata": {},
   "source": [
    "And they are much faster and accurate than most things you could write on your own!"
   ]
  },
  {
   "cell_type": "markdown",
   "metadata": {},
   "source": [
    "## SciPy: Tools Galore!"
   ]
  },
  {
   "cell_type": "markdown",
   "metadata": {},
   "source": [
    "SciPy gives you all the tools you need to do some complicated scientific analyses. Let's take a look at scipy.integrate\n",
    "\n",
    "https://docs.scipy.org/doc/scipy/reference/integrate.html"
   ]
  },
  {
   "cell_type": "code",
   "execution_count": 28,
   "metadata": {
    "collapsed": true
   },
   "outputs": [],
   "source": [
    "from scipy.integrate import quad    # quad for quadrature\n",
    "\n",
    "# Grabbing this from the functions lesson\n",
    "def squared(x):\n",
    "    return x*x"
   ]
  },
  {
   "cell_type": "code",
   "execution_count": 29,
   "metadata": {
    "collapsed": false
   },
   "outputs": [
    {
     "name": "stdout",
     "output_type": "stream",
     "text": [
      "(1166.6666666666665, 1.2952601953960159e-11)\n"
     ]
    }
   ],
   "source": [
    "print( quad( squared, -5, 15 ) )"
   ]
  },
  {
   "cell_type": "code",
   "execution_count": 33,
   "metadata": {
    "collapsed": false
   },
   "outputs": [
    {
     "name": "stdout",
     "output_type": "stream",
     "text": [
      "The slowest run took 15.64 times longer than the fastest. This could mean that an intermediate result is being cached.\n",
      "100000 loops, best of 3: 8.31 µs per loop\n"
     ]
    }
   ],
   "source": [
    "%timeit quad(squared, -5, 15)"
   ]
  },
  {
   "cell_type": "markdown",
   "metadata": {},
   "source": [
    "Needless to say, it's fast (and it caches to make calcualtions you do often take less time). At this point you might be wondering what the second output of quad is, you might even be asking how to use quad yourself. Let's take a look at the documentation.\n",
    "\n",
    "https://docs.scipy.org/doc/scipy/reference/generated/scipy.integrate.quad.html#scipy.integrate.quad"
   ]
  },
  {
   "cell_type": "markdown",
   "metadata": {},
   "source": [
    "We can see in yellow the function signture. The first three arguments are the only mandatory arguments, all the others have defauls assigned to them. \n",
    "\n",
    "By looking under parameters we see what each of these arguments must be. Scrolling down more, we see that the function returns the integral and estimate of the error on that integral."
   ]
  },
  {
   "cell_type": "markdown",
   "metadata": {},
   "source": [
    "Now let's take a look at scipy.linalg\n",
    "\n",
    "https://docs.scipy.org/doc/scipy/reference/linalg.html"
   ]
  },
  {
   "cell_type": "code",
   "execution_count": 44,
   "metadata": {
    "collapsed": false
   },
   "outputs": [
    {
     "name": "stdout",
     "output_type": "stream",
     "text": [
      "[[ 2.  1.]\n",
      " [ 1.  2.]]\n",
      "--------------------------------------------------\n",
      "[[ 0.66666667 -0.33333333]\n",
      " [-0.33333333  0.66666667]]\n",
      "--------------------------------------------------\n",
      "[[ 1.  0.]\n",
      " [ 0.  1.]]\n",
      "--------------------------------------------------\n",
      "[ 3.+0.j  1.+0.j]\n",
      "--------------------------------------------------\n",
      "[[ 0.70710678 -0.70710678]\n",
      " [ 0.70710678  0.70710678]]\n",
      "--------------------------------------------------\n"
     ]
    }
   ],
   "source": [
    "from scipy.linalg import inv, eig\n",
    "\n",
    "a = np.ones([2,2]) + np.eye(2)\n",
    "\n",
    "a_inverse = inv(a)    # inv calculates the inverse matrix\n",
    "\n",
    "eigenvalues, eigenvectors = eig(a)\n",
    "\n",
    "for _ in [a, a_inverse, a.dot(a_inverse), eigenvalues, eigenvectors]:\n",
    "    print(_)\n",
    "    print('-'*50)"
   ]
  },
  {
   "cell_type": "markdown",
   "metadata": {},
   "source": [
    "Here is a the documentation page for the various modules in scipy:\n",
    "\n",
    "https://docs.scipy.org/doc/scipy/reference/index.html"
   ]
  },
  {
   "cell_type": "markdown",
   "metadata": {},
   "source": [
    "## matplotlib: plotting... everyone needs plotting"
   ]
  },
  {
   "cell_type": "markdown",
   "metadata": {},
   "source": [
    "matplotlib gives you easy hooks to different plotting functions. There are two interfaces for matplotlib: pylab and pyplot. I use pyplot, but pylab works just as well. Let's start by making some simple plots"
   ]
  },
  {
   "cell_type": "code",
   "execution_count": 5,
   "metadata": {
    "collapsed": false
   },
   "outputs": [
    {
     "data": {
      "image/png": "[encoded data removed]",
      "text/plain": [
       "<matplotlib.figure.Figure at 0x7f5f8638fe80>"
      ]
     },
     "metadata": {},
     "output_type": "display_data"
    }
   ],
   "source": [
    "# This is so that the plots are embedded into this notebook, you can ignore it for now if you want\n",
    "%matplotlib inline\n",
    "import matplotlib.pyplot as plt\n",
    "\n",
    "x = np.linspace(0, 2*np.pi, 1000)\n",
    "y = np.sin(x)\n",
    "\n",
    "plt.plot(x,y)\n",
    "plt.show()"
   ]
  },
  {
   "cell_type": "markdown",
   "metadata": {},
   "source": [
    "So plot will grab a list or container of x values and a matching list or container of y values. It will then plot the points on the screen and connect the points. If you have enough points then the line looks smooth. Let's try less points"
   ]
  },
  {
   "cell_type": "code",
   "execution_count": 63,
   "metadata": {
    "collapsed": false
   },
   "outputs": [
    {
     "data": {
      "image/png": "[encoded data removed]",
      "text/plain": [
       "<matplotlib.figure.Figure at 0x7fe786413cf8>"
      ]
     },
     "metadata": {},
     "output_type": "display_data"
    }
   ],
   "source": [
    "x = np.linspace(0, 2*np.pi, 10)\n",
    "y = np.sin(x)\n",
    "\n",
    "plt.plot(x,y)\n",
    "plt.show()"
   ]
  },
  {
   "cell_type": "markdown",
   "metadata": {},
   "source": [
    "In fact we can make it show the dots themselves. The third element for plot can be a string detailing how you want stuff to be plotted."
   ]
  },
  {
   "cell_type": "code",
   "execution_count": 64,
   "metadata": {
    "collapsed": false
   },
   "outputs": [
    {
     "data": {
      "image/png": "[encoded data removed]",
      "text/plain": [
       "<matplotlib.figure.Figure at 0x7fe78642e5f8>"
      ]
     },
     "metadata": {},
     "output_type": "display_data"
    }
   ],
   "source": [
    "plt.plot(x,y, 'o')\n",
    "plt.show()"
   ]
  },
  {
   "cell_type": "code",
   "execution_count": 65,
   "metadata": {
    "collapsed": false
   },
   "outputs": [
    {
     "data": {
      "image/png": "[encoded data removed]",
      "text/plain": [
       "<matplotlib.figure.Figure at 0x7fe78641a5f8>"
      ]
     },
     "metadata": {},
     "output_type": "display_data"
    }
   ],
   "source": [
    "plt.plot(x,y,'o-')\n",
    "plt.show()"
   ]
  },
  {
   "cell_type": "markdown",
   "metadata": {},
   "source": [
    "We can make our graphs a lot prettier. We can label the axis, add titles, put legends, have multiple plots, etc."
   ]
  },
  {
   "cell_type": "code",
   "execution_count": 91,
   "metadata": {
    "collapsed": false
   },
   "outputs": [
    {
     "data": {
      "image/png": "[encoded data removed]",
      "text/plain": [
       "<matplotlib.figure.Figure at 0x7fe78511f9b0>"
      ]
     },
     "metadata": {},
     "output_type": "display_data"
    }
   ],
   "source": [
    "plt.figure(figsize=(16,9))   # make a figure with bigger size (16:9 aspect ratio)\n",
    "\n",
    "plt.subplot(2,2,1)   # Go to the first plot of a 2x2 subplot\n",
    "plt.plot(x, y, 'ok--', label='That sine!')   # label is used by the legend function\n",
    "plt.xlabel('The x axis')\n",
    "plt.ylabel('The y-axis')\n",
    "plt.title('A sine curve')\n",
    "plt.legend(loc='best')    # Use the labels to build a legend, and place it in the best location\n",
    "\n",
    "plt.subplot(2,2,4)\n",
    "plt.plot(x, 0.01*x**4 + 300*np.cos(x) - np.e**(x))\n",
    "plt.xlabel('$\\\\psi$')    # We can even do latex notation\n",
    "plt.ylabel('$ 0.01 x^4 + 300 cos(x) - e^x $')\n",
    "\n",
    "plt.suptitle('TESTING')    # Overall plot title\n",
    "plt.show()"
   ]
  },
  {
   "cell_type": "markdown",
   "metadata": {},
   "source": [
    "You can also do scatter, and hist to do scatter plots and histograms. imshow will allow you to display images (or heatmaps). We'll gloss over those for now and instead show an example of a 3d plot, since those can be a bit harder to do."
   ]
  },
  {
   "cell_type": "code",
   "execution_count": 9,
   "metadata": {
    "collapsed": false
   },
   "outputs": [
    {
     "data": {
      "image/png": "[encoded data removed]",
      "text/plain": [
       "<matplotlib.figure.Figure at 0x7f5f83543f60>"
      ]
     },
     "metadata": {},
     "output_type": "display_data"
    }
   ],
   "source": [
    "from mpl_toolkits.mplot3d import Axes3D\n",
    "\n",
    "fig = plt.figure()   # make a figure\n",
    "ax  = fig.add_subplot(111, projection='3d')   # add a set of 3d axis to the plot\n",
    "\n",
    "t = np.linspace(-50,50,10000)   # parametrize with t\n",
    "r = t**2 + 1                    # make a radius that depends on t\n",
    "x = r*np.cos(t)                 # the x equation\n",
    "y = r*np.sin(t)                 # the y equation\n",
    "z = t                           # z just the t axis\n",
    "\n",
    "plt.plot(x,y,z)                 # this axis' plot gives you three required arguments\n",
    "plt.show()"
   ]
  },
  {
   "cell_type": "markdown",
   "metadata": {},
   "source": [
    "# Projects"
   ]
  },
  {
   "cell_type": "markdown",
   "metadata": {
    "collapsed": true
   },
   "source": [
    "Data analysis, linear regressions and plotting are things that you will have to do over and over again in your undergrad. In a csv you will find x and y values. The x and y values will be the first and second columns. The error in x and the error in y will be the third and fourth columns.\n",
    "\n",
    "* Use numpy to load the data (take a look at np.readtxt)\n",
    "* Make a plot of y as a function of x. Remember to include the error bars (hint google which matplotlib function you need)\n",
    "* Using a linear regression (check scipy for linregress), add a line of best fit and make sure the equation shows up in the legend for the plot\n",
    "* save your figure\n",
    "\n",
    "OR\n",
    "\n",
    "Given the following DE:\n",
    "\n",
    "$ \\frac{dy}{dx} = - y \\cdot sin(y) $\n",
    "\n",
    "plot the numrical solution for $y(0) = -0.5$ and $y(0)=1$ (check around scipy for odeint [for ordinary differential equation integrator])\n",
    "\n",
    "OR\n",
    "\n",
    "The Lorentz attractor is a system of ODEs that is notable for having chaotic behaviour (ie exhibit wild changes in output due to small changes in input).\n",
    "\n",
    "https://en.wikipedia.org/wiki/Lorenz_system\n",
    "\n",
    "Solve the system of DEs:\n",
    "\n",
    "$\\frac{dx}{dt} = \\sigma(y-x)$\n",
    "\n",
    "$\\frac{dy}{dt} = x(\\rho - z) - y$\n",
    "\n",
    "$\\frac{dz}{dt} = xy - \\beta z$\n",
    "\n",
    "for $\\sigma=10, \\beta=8/3, \\rho=28$ and starting condition $x=2,y=3,z=4$.\n",
    "Play around with the domain of t until you find something you think looks cool. Feel free to ask about how to approach the problem!"
   ]
  }
 ],
 "metadata": {
  "kernelspec": {
   "display_name": "Python 3",
   "language": "python",
   "name": "python3"
  },
  "language_info": {
   "codemirror_mode": {
    "name": "ipython",
    "version": 3
   },
   "file_extension": ".py",
   "mimetype": "text/x-python",
   "name": "python",
   "nbconvert_exporter": "python",
   "pygments_lexer": "ipython3",
   "version": "3.5.2"
  }
 },
 "nbformat": 4,
 "nbformat_minor": 0
}
